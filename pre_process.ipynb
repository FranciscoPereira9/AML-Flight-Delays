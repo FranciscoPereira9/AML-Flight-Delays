{
 "cells": [
  {
   "cell_type": "markdown",
   "metadata": {
    "cell_id": "3599f9d4-6666-4455-8015-de79af406f30",
    "deepnote_cell_type": "markdown"
   },
   "source": [
    "# Flights Delay Prediction ✈️ - Data Pre-Processing\n",
    "\n",
    "This notebook focus on the pre-processing of data."
   ]
  },
  {
   "cell_type": "code",
   "execution_count": 1,
   "metadata": {
    "cell_id": "00003-10a9ac82-5630-4337-b231-75bc69a3a24a",
    "deepnote_cell_type": "code",
    "deepnote_to_be_reexecuted": false,
    "execution_millis": 19,
    "execution_start": 1638616175770,
    "source_hash": "7b0ed43b",
    "tags": []
   },
   "outputs": [],
   "source": [
    "import pandas as pd\n",
    "import numpy as np\n",
    "import seaborn as sns\n",
    "import datetime\n",
    "# ML\n",
    "import tensorflow as tf\n",
    "from tensorflow import keras\n",
    "from tensorflow.keras import layers\n",
    "from sklearn.model_selection import train_test_split\n",
    "from sklearn.linear_model import LinearRegression\n",
    "from sklearn.preprocessing import OneHotEncoder\n",
    "from sklearn import metrics\n",
    "from sklearn.preprocessing import PolynomialFeatures\n",
    "from sklearn.pipeline import make_pipeline\n",
    "# Options\n",
    "# Make NumPy printouts easier to read.\n",
    "np.set_printoptions(precision=3, suppress=True)"
   ]
  },
  {
   "cell_type": "code",
   "execution_count": 2,
   "metadata": {
    "cell_id": "00004-668e3bc8-c83c-478d-a9c7-6f385f77c134",
    "deepnote_cell_type": "code",
    "deepnote_to_be_reexecuted": false,
    "execution_millis": 8289,
    "execution_start": 1638615569858,
    "source_hash": "80afd9dd",
    "tags": []
   },
   "outputs": [],
   "source": [
    "# Original\n",
    "airlines_raw = pd.read_csv(\"data/airlines.csv\")\n",
    "airports_raw = pd.read_csv(\"data/airports.csv\")\n",
    "flights_train_raw = pd.read_csv(\"data/flights_train.csv\")\n",
    "flights_test_raw = pd.read_csv(\"data/flights_test.csv\")\n",
    "# Copies (work on the copies)\n",
    "airlines = airlines_raw.copy()\n",
    "airports = airports_raw.copy()\n",
    "flights_train = flights_train_raw.copy()\n",
    "flights_test = flights_test_raw.copy()"
   ]
  },
  {
   "cell_type": "code",
   "execution_count": 3,
   "metadata": {},
   "outputs": [
    {
     "data": {
      "text/html": [
       "<div>\n",
       "<style scoped>\n",
       "    .dataframe tbody tr th:only-of-type {\n",
       "        vertical-align: middle;\n",
       "    }\n",
       "\n",
       "    .dataframe tbody tr th {\n",
       "        vertical-align: top;\n",
       "    }\n",
       "\n",
       "    .dataframe thead th {\n",
       "        text-align: right;\n",
       "    }\n",
       "</style>\n",
       "<table border=\"1\" class=\"dataframe\">\n",
       "  <thead>\n",
       "    <tr style=\"text-align: right;\">\n",
       "      <th></th>\n",
       "      <th>id</th>\n",
       "      <th>YEAR</th>\n",
       "      <th>MONTH</th>\n",
       "      <th>DAY</th>\n",
       "      <th>DAY_OF_WEEK</th>\n",
       "      <th>AIRLINE</th>\n",
       "      <th>FLIGHT_NUMBER</th>\n",
       "      <th>TAIL_NUMBER</th>\n",
       "      <th>ORIGIN_AIRPORT</th>\n",
       "      <th>DESTINATION_AIRPORT</th>\n",
       "      <th>SCHEDULED_DEPARTURE</th>\n",
       "      <th>DEPARTURE_TIME</th>\n",
       "      <th>TAXI_OUT</th>\n",
       "      <th>WHEELS_OFF</th>\n",
       "      <th>SCHEDULED_TIME</th>\n",
       "      <th>DISTANCE</th>\n",
       "      <th>SCHEDULED_ARRIVAL</th>\n",
       "      <th>ARRIVAL_DELAY</th>\n",
       "    </tr>\n",
       "  </thead>\n",
       "  <tbody>\n",
       "    <tr>\n",
       "      <th>0</th>\n",
       "      <td>0</td>\n",
       "      <td>2015</td>\n",
       "      <td>1</td>\n",
       "      <td>1</td>\n",
       "      <td>4</td>\n",
       "      <td>AS</td>\n",
       "      <td>98</td>\n",
       "      <td>N407AS</td>\n",
       "      <td>ANC</td>\n",
       "      <td>SEA</td>\n",
       "      <td>5</td>\n",
       "      <td>2354.0</td>\n",
       "      <td>21.0</td>\n",
       "      <td>15.0</td>\n",
       "      <td>205.0</td>\n",
       "      <td>1448</td>\n",
       "      <td>430</td>\n",
       "      <td>-22.0</td>\n",
       "    </tr>\n",
       "    <tr>\n",
       "      <th>1</th>\n",
       "      <td>1</td>\n",
       "      <td>2015</td>\n",
       "      <td>1</td>\n",
       "      <td>1</td>\n",
       "      <td>4</td>\n",
       "      <td>AA</td>\n",
       "      <td>2336</td>\n",
       "      <td>N3KUAA</td>\n",
       "      <td>LAX</td>\n",
       "      <td>PBI</td>\n",
       "      <td>10</td>\n",
       "      <td>2.0</td>\n",
       "      <td>12.0</td>\n",
       "      <td>14.0</td>\n",
       "      <td>280.0</td>\n",
       "      <td>2330</td>\n",
       "      <td>750</td>\n",
       "      <td>-9.0</td>\n",
       "    </tr>\n",
       "    <tr>\n",
       "      <th>2</th>\n",
       "      <td>2</td>\n",
       "      <td>2015</td>\n",
       "      <td>1</td>\n",
       "      <td>1</td>\n",
       "      <td>4</td>\n",
       "      <td>US</td>\n",
       "      <td>840</td>\n",
       "      <td>N171US</td>\n",
       "      <td>SFO</td>\n",
       "      <td>CLT</td>\n",
       "      <td>20</td>\n",
       "      <td>18.0</td>\n",
       "      <td>16.0</td>\n",
       "      <td>34.0</td>\n",
       "      <td>286.0</td>\n",
       "      <td>2296</td>\n",
       "      <td>806</td>\n",
       "      <td>5.0</td>\n",
       "    </tr>\n",
       "    <tr>\n",
       "      <th>3</th>\n",
       "      <td>3</td>\n",
       "      <td>2015</td>\n",
       "      <td>1</td>\n",
       "      <td>1</td>\n",
       "      <td>4</td>\n",
       "      <td>AA</td>\n",
       "      <td>258</td>\n",
       "      <td>N3HYAA</td>\n",
       "      <td>LAX</td>\n",
       "      <td>MIA</td>\n",
       "      <td>20</td>\n",
       "      <td>15.0</td>\n",
       "      <td>15.0</td>\n",
       "      <td>30.0</td>\n",
       "      <td>285.0</td>\n",
       "      <td>2342</td>\n",
       "      <td>805</td>\n",
       "      <td>-9.0</td>\n",
       "    </tr>\n",
       "    <tr>\n",
       "      <th>4</th>\n",
       "      <td>4</td>\n",
       "      <td>2015</td>\n",
       "      <td>1</td>\n",
       "      <td>1</td>\n",
       "      <td>4</td>\n",
       "      <td>AS</td>\n",
       "      <td>135</td>\n",
       "      <td>N527AS</td>\n",
       "      <td>SEA</td>\n",
       "      <td>ANC</td>\n",
       "      <td>25</td>\n",
       "      <td>24.0</td>\n",
       "      <td>11.0</td>\n",
       "      <td>35.0</td>\n",
       "      <td>235.0</td>\n",
       "      <td>1448</td>\n",
       "      <td>320</td>\n",
       "      <td>-21.0</td>\n",
       "    </tr>\n",
       "    <tr>\n",
       "      <th>...</th>\n",
       "      <td>...</td>\n",
       "      <td>...</td>\n",
       "      <td>...</td>\n",
       "      <td>...</td>\n",
       "      <td>...</td>\n",
       "      <td>...</td>\n",
       "      <td>...</td>\n",
       "      <td>...</td>\n",
       "      <td>...</td>\n",
       "      <td>...</td>\n",
       "      <td>...</td>\n",
       "      <td>...</td>\n",
       "      <td>...</td>\n",
       "      <td>...</td>\n",
       "      <td>...</td>\n",
       "      <td>...</td>\n",
       "      <td>...</td>\n",
       "      <td>...</td>\n",
       "    </tr>\n",
       "    <tr>\n",
       "      <th>2818548</th>\n",
       "      <td>2818548</td>\n",
       "      <td>2015</td>\n",
       "      <td>6</td>\n",
       "      <td>30</td>\n",
       "      <td>2</td>\n",
       "      <td>UA</td>\n",
       "      <td>1180</td>\n",
       "      <td>N65832</td>\n",
       "      <td>LAX</td>\n",
       "      <td>ORD</td>\n",
       "      <td>2359</td>\n",
       "      <td>2358.0</td>\n",
       "      <td>11.0</td>\n",
       "      <td>9.0</td>\n",
       "      <td>241.0</td>\n",
       "      <td>1744</td>\n",
       "      <td>600</td>\n",
       "      <td>-8.0</td>\n",
       "    </tr>\n",
       "    <tr>\n",
       "      <th>2818549</th>\n",
       "      <td>2818549</td>\n",
       "      <td>2015</td>\n",
       "      <td>6</td>\n",
       "      <td>30</td>\n",
       "      <td>2</td>\n",
       "      <td>UA</td>\n",
       "      <td>1192</td>\n",
       "      <td>N69839</td>\n",
       "      <td>LAX</td>\n",
       "      <td>IAH</td>\n",
       "      <td>2359</td>\n",
       "      <td>129.0</td>\n",
       "      <td>11.0</td>\n",
       "      <td>140.0</td>\n",
       "      <td>201.0</td>\n",
       "      <td>1379</td>\n",
       "      <td>520</td>\n",
       "      <td>79.0</td>\n",
       "    </tr>\n",
       "    <tr>\n",
       "      <th>2818550</th>\n",
       "      <td>2818550</td>\n",
       "      <td>2015</td>\n",
       "      <td>6</td>\n",
       "      <td>30</td>\n",
       "      <td>2</td>\n",
       "      <td>UA</td>\n",
       "      <td>1480</td>\n",
       "      <td>N37298</td>\n",
       "      <td>PDX</td>\n",
       "      <td>IAH</td>\n",
       "      <td>2359</td>\n",
       "      <td>152.0</td>\n",
       "      <td>8.0</td>\n",
       "      <td>200.0</td>\n",
       "      <td>249.0</td>\n",
       "      <td>1825</td>\n",
       "      <td>608</td>\n",
       "      <td>107.0</td>\n",
       "    </tr>\n",
       "    <tr>\n",
       "      <th>2818551</th>\n",
       "      <td>2818551</td>\n",
       "      <td>2015</td>\n",
       "      <td>6</td>\n",
       "      <td>30</td>\n",
       "      <td>2</td>\n",
       "      <td>UA</td>\n",
       "      <td>1637</td>\n",
       "      <td>N35260</td>\n",
       "      <td>SEA</td>\n",
       "      <td>IAH</td>\n",
       "      <td>2359</td>\n",
       "      <td>12.0</td>\n",
       "      <td>12.0</td>\n",
       "      <td>24.0</td>\n",
       "      <td>250.0</td>\n",
       "      <td>1874</td>\n",
       "      <td>609</td>\n",
       "      <td>9.0</td>\n",
       "    </tr>\n",
       "    <tr>\n",
       "      <th>2818552</th>\n",
       "      <td>2818552</td>\n",
       "      <td>2015</td>\n",
       "      <td>6</td>\n",
       "      <td>30</td>\n",
       "      <td>2</td>\n",
       "      <td>UA</td>\n",
       "      <td>1903</td>\n",
       "      <td>N35271</td>\n",
       "      <td>IAH</td>\n",
       "      <td>SJU</td>\n",
       "      <td>2359</td>\n",
       "      <td>7.0</td>\n",
       "      <td>14.0</td>\n",
       "      <td>21.0</td>\n",
       "      <td>275.0</td>\n",
       "      <td>2007</td>\n",
       "      <td>534</td>\n",
       "      <td>-8.0</td>\n",
       "    </tr>\n",
       "  </tbody>\n",
       "</table>\n",
       "<p>2818553 rows × 18 columns</p>\n",
       "</div>"
      ],
      "text/plain": [
       "              id  YEAR  MONTH  DAY  DAY_OF_WEEK AIRLINE  FLIGHT_NUMBER  \\\n",
       "0              0  2015      1    1            4      AS             98   \n",
       "1              1  2015      1    1            4      AA           2336   \n",
       "2              2  2015      1    1            4      US            840   \n",
       "3              3  2015      1    1            4      AA            258   \n",
       "4              4  2015      1    1            4      AS            135   \n",
       "...          ...   ...    ...  ...          ...     ...            ...   \n",
       "2818548  2818548  2015      6   30            2      UA           1180   \n",
       "2818549  2818549  2015      6   30            2      UA           1192   \n",
       "2818550  2818550  2015      6   30            2      UA           1480   \n",
       "2818551  2818551  2015      6   30            2      UA           1637   \n",
       "2818552  2818552  2015      6   30            2      UA           1903   \n",
       "\n",
       "        TAIL_NUMBER ORIGIN_AIRPORT DESTINATION_AIRPORT  SCHEDULED_DEPARTURE  \\\n",
       "0            N407AS            ANC                 SEA                    5   \n",
       "1            N3KUAA            LAX                 PBI                   10   \n",
       "2            N171US            SFO                 CLT                   20   \n",
       "3            N3HYAA            LAX                 MIA                   20   \n",
       "4            N527AS            SEA                 ANC                   25   \n",
       "...             ...            ...                 ...                  ...   \n",
       "2818548      N65832            LAX                 ORD                 2359   \n",
       "2818549      N69839            LAX                 IAH                 2359   \n",
       "2818550      N37298            PDX                 IAH                 2359   \n",
       "2818551      N35260            SEA                 IAH                 2359   \n",
       "2818552      N35271            IAH                 SJU                 2359   \n",
       "\n",
       "         DEPARTURE_TIME  TAXI_OUT  WHEELS_OFF  SCHEDULED_TIME  DISTANCE  \\\n",
       "0                2354.0      21.0        15.0           205.0      1448   \n",
       "1                   2.0      12.0        14.0           280.0      2330   \n",
       "2                  18.0      16.0        34.0           286.0      2296   \n",
       "3                  15.0      15.0        30.0           285.0      2342   \n",
       "4                  24.0      11.0        35.0           235.0      1448   \n",
       "...                 ...       ...         ...             ...       ...   \n",
       "2818548          2358.0      11.0         9.0           241.0      1744   \n",
       "2818549           129.0      11.0       140.0           201.0      1379   \n",
       "2818550           152.0       8.0       200.0           249.0      1825   \n",
       "2818551            12.0      12.0        24.0           250.0      1874   \n",
       "2818552             7.0      14.0        21.0           275.0      2007   \n",
       "\n",
       "         SCHEDULED_ARRIVAL  ARRIVAL_DELAY  \n",
       "0                      430          -22.0  \n",
       "1                      750           -9.0  \n",
       "2                      806            5.0  \n",
       "3                      805           -9.0  \n",
       "4                      320          -21.0  \n",
       "...                    ...            ...  \n",
       "2818548                600           -8.0  \n",
       "2818549                520           79.0  \n",
       "2818550                608          107.0  \n",
       "2818551                609            9.0  \n",
       "2818552                534           -8.0  \n",
       "\n",
       "[2818553 rows x 18 columns]"
      ]
     },
     "execution_count": 3,
     "metadata": {},
     "output_type": "execute_result"
    }
   ],
   "source": [
    "flights_train"
   ]
  },
  {
   "cell_type": "code",
   "execution_count": 6,
   "metadata": {},
   "outputs": [],
   "source": [
    "def rearrange_date(df):\n",
    "    \"\"\"\n",
    "    Merges YEAR, MONTH, DAY and puts it into a datetime object.\n",
    "    Creates WEEK_DAY based on date.\n",
    "    \"\"\"\n",
    "    # Create a Date Time Variable - YEAR-MONTH-DAY all in the same field - train\n",
    "    df = df.astype({'YEAR': 'str', 'MONTH': 'str', 'DAY': 'str'})\n",
    "    df[\"DATE\"] = df[\"DAY\"].str.cat(df[['MONTH', 'YEAR']], sep='-')\n",
    "    df['DATE'] = pd.to_datetime(df['DATE'])\n",
    "    df['WEEK_DAY'] = df['DATE'].dt.day_name()\n",
    "    df.drop(columns = ['YEAR', 'MONTH', 'DAY'], inplace=True)\n",
    "    return df"
   ]
  },
  {
   "cell_type": "code",
   "execution_count": 5,
   "metadata": {
    "cell_id": "00009-94640db4-2b79-491f-bb0f-17249a006683",
    "deepnote_cell_type": "code",
    "deepnote_output_heights": [
     21.1875,
     21.1875
    ],
    "deepnote_to_be_reexecuted": false,
    "execution_millis": 1490,
    "execution_start": 1638615585690,
    "source_hash": "b067dd00",
    "tags": []
   },
   "outputs": [
    {
     "data": {
      "text/plain": [
       "9.0"
      ]
     },
     "execution_count": 5,
     "metadata": {},
     "output_type": "execute_result"
    }
   ],
   "source": [
    "def departure_delay(day, scheduled_departure, departure, arrival_delay=None):\n",
    "    '''\n",
    "    Calculate the departure delay.\n",
    "    Assumption: the delay is always positive unless the negative delay is less than 90 minutes.\n",
    "\n",
    "    Input:\n",
    "    date - date of the schedule departure. - datetime\n",
    "    scheduled_departure - time (hhmm) for the scheduled departure. - int64\n",
    "    departure - actual time (hhmm) for the departure. - float64\n",
    "    '''\n",
    "    # Transform to datetime objects\n",
    "    scheduled_departure = \"{0:04d}\".format(int(scheduled_departure))\n",
    "    scheduled_departure = day + datetime.timedelta(hours=int(scheduled_departure[0:2]),\n",
    "                                                   minutes=int(scheduled_departure[2:4]))\n",
    "    departure = \"{0:04d}\".format(int(departure))\n",
    "    departure = datetime.timedelta(hours=int(departure[0:2]), minutes=int(departure[2:4]))\n",
    "\n",
    "    # Create array with possible intervals\n",
    "    previous_day = day - datetime.timedelta(days=1)\n",
    "    previous_day_departure = previous_day + departure\n",
    "    day_departure = day + departure\n",
    "    next_day = day + datetime.timedelta(days=1)\n",
    "    next_day_departure = next_day + departure\n",
    "    time_differences = np.array([(previous_day_departure - scheduled_departure).total_seconds(),\n",
    "                                 (day_departure - scheduled_departure).total_seconds(),\n",
    "                                 (next_day_departure - scheduled_departure).total_seconds()]) / 60\n",
    "    time_differences = time_differences[time_differences > -90]\n",
    "    min_index = np.argmin(np.abs(time_differences))\n",
    "    if arrival_delay:\n",
    "        arrival_departure_difference = np.abs(arrival_delay - time_differences)\n",
    "        min_index = np.argmin(arrival_departure_difference)\n",
    "    # Get minimum interval\n",
    "    return time_differences[min_index]\n",
    "\n",
    "# Test function\n",
    "departure_delay(datetime.datetime(2015, 1, 1), 1700, 1709)\n"
   ]
  },
  {
   "cell_type": "code",
   "execution_count": 62,
   "metadata": {},
   "outputs": [],
   "source": [
    "def create_output(predictions): \n",
    "    print(np.arange(len(predictions)))\n",
    "    print(np.reshape(predictions,(len(predictions))))\n",
    "    submission = pd.DataFrame(data={\"id\": np.arange(len(predictions)),\n",
    "                                    \"ARRIVAL_DELAY\": np.reshape(predictions,(len(predictions)))})\n",
    "    return submission"
   ]
  },
  {
   "cell_type": "code",
   "execution_count": 7,
   "metadata": {},
   "outputs": [],
   "source": [
    "# Create Date with Datetime obj \n",
    "flights_train = rearrange_date(flights_train)\n",
    "flights_test = rearrange_date(flights_test)\n",
    "\n",
    "# Calculate Departure Delay\n",
    "flights_train[\"DEPARTURE_DELAY\"] = flights_train.apply(lambda row: departure_delay(row[\"DATE\"], row[\"SCHEDULED_DEPARTURE\"], row[\"DEPARTURE_TIME\"], arrival_delay=row[\"ARRIVAL_DELAY\"]), axis=1)\n",
    "flights_test[\"DEPARTURE_DELAY\"] = flights_test.apply(lambda row: departure_delay(row[\"DATE\"], row[\"SCHEDULED_DEPARTURE\"], row[\"DEPARTURE_TIME\"]), axis=1)\n"
   ]
  },
  {
   "cell_type": "code",
   "execution_count": 6,
   "metadata": {
    "cell_id": "00005-8af05ad7-e48e-4857-93a1-da20fcda23b7",
    "deepnote_cell_type": "code",
    "deepnote_output_heights": [
     232.25
    ],
    "deepnote_to_be_reexecuted": false,
    "execution_millis": 47,
    "execution_start": 1638614183140,
    "scrolled": false,
    "source_hash": "3548b8ff",
    "tags": []
   },
   "outputs": [
    {
     "data": {
      "text/plain": [
       "id                     0\n",
       "DAY_OF_WEEK            0\n",
       "AIRLINE                0\n",
       "FLIGHT_NUMBER          0\n",
       "TAIL_NUMBER            0\n",
       "ORIGIN_AIRPORT         0\n",
       "DESTINATION_AIRPORT    0\n",
       "SCHEDULED_DEPARTURE    0\n",
       "DEPARTURE_TIME         0\n",
       "TAXI_OUT               0\n",
       "WHEELS_OFF             0\n",
       "SCHEDULED_TIME         0\n",
       "DISTANCE               0\n",
       "SCHEDULED_ARRIVAL      0\n",
       "DATE                   0\n",
       "WEEK_DAY               0\n",
       "DEPARTURE_DELAY        0\n",
       "dtype: int64"
      ]
     },
     "execution_count": 6,
     "metadata": {},
     "output_type": "execute_result"
    }
   ],
   "source": [
    "# Check Missing Values\n",
    "flights_test.isna().sum(axis=0)"
   ]
  },
  {
   "cell_type": "code",
   "execution_count": 7,
   "metadata": {},
   "outputs": [],
   "source": [
    "# Select Columns to Use\n",
    "select_ordered_train = ['DEPARTURE_DELAY', 'ARRIVAL_DELAY']\n",
    "select_ordered_test = ['DEPARTURE_DELAY']\n",
    "flights_train = flights_train[select_ordered_train]\n",
    "flights_test = flights_test[select_ordered_test]"
   ]
  },
  {
   "cell_type": "code",
   "execution_count": 8,
   "metadata": {},
   "outputs": [
    {
     "data": {
      "text/plain": [
       "Index(['ARRIVAL_DELAY'], dtype='object')"
      ]
     },
     "execution_count": 8,
     "metadata": {},
     "output_type": "execute_result"
    }
   ],
   "source": [
    "flights_train.columns.difference(flights_test.columns)"
   ]
  },
  {
   "cell_type": "code",
   "execution_count": 9,
   "metadata": {
    "cell_id": "00009-019bcb42-93f2-44e5-9f7a-3d6796feced3",
    "deepnote_cell_type": "code",
    "deepnote_to_be_reexecuted": false,
    "execution_millis": 36,
    "execution_start": 1638615763235,
    "source_hash": "6f7f602f",
    "tags": []
   },
   "outputs": [],
   "source": [
    "flights_train = pd.get_dummies(flights_train, columns=['WEEK_DAY'], prefix='', prefix_sep='')\n",
    "#flights_train = pd.get_dummies(flights_train, columns=['AIRLINE'], prefix='AIRLINE', prefix_sep='_')\n",
    "#flights_train = pd.get_dummies(flights_train, columns=['ORIGIN_AIRPORT'], prefix='ORIGIN', prefix_sep='_')\n",
    "#flights_train = pd.get_dummies(flights_train, columns=['DESTINATION_AIRPORT'], prefix='DESTINATION', prefix_sep='_')\n",
    "flights_test = pd.get_dummies(flights_test, columns=['WEEK_DAY'], prefix='', prefix_sep='')\n",
    "#flights_test = pd.get_dummies(flights_test, columns=['AIRLINE'], prefix='AIRLINE', prefix_sep='_')"
   ]
  },
  {
   "cell_type": "code",
   "execution_count": 8,
   "metadata": {},
   "outputs": [
    {
     "data": {
      "text/html": [
       "<div>\n",
       "<style scoped>\n",
       "    .dataframe tbody tr th:only-of-type {\n",
       "        vertical-align: middle;\n",
       "    }\n",
       "\n",
       "    .dataframe tbody tr th {\n",
       "        vertical-align: top;\n",
       "    }\n",
       "\n",
       "    .dataframe thead th {\n",
       "        text-align: right;\n",
       "    }\n",
       "</style>\n",
       "<table border=\"1\" class=\"dataframe\">\n",
       "  <thead>\n",
       "    <tr style=\"text-align: right;\">\n",
       "      <th></th>\n",
       "      <th>DEPARTURE_DELAY</th>\n",
       "      <th>ARRIVAL_DELAY</th>\n",
       "    </tr>\n",
       "  </thead>\n",
       "  <tbody>\n",
       "    <tr>\n",
       "      <th>0</th>\n",
       "      <td>-11.0</td>\n",
       "      <td>-22.0</td>\n",
       "    </tr>\n",
       "    <tr>\n",
       "      <th>1</th>\n",
       "      <td>-8.0</td>\n",
       "      <td>-9.0</td>\n",
       "    </tr>\n",
       "    <tr>\n",
       "      <th>2</th>\n",
       "      <td>-2.0</td>\n",
       "      <td>5.0</td>\n",
       "    </tr>\n",
       "    <tr>\n",
       "      <th>3</th>\n",
       "      <td>-5.0</td>\n",
       "      <td>-9.0</td>\n",
       "    </tr>\n",
       "    <tr>\n",
       "      <th>4</th>\n",
       "      <td>-1.0</td>\n",
       "      <td>-21.0</td>\n",
       "    </tr>\n",
       "    <tr>\n",
       "      <th>...</th>\n",
       "      <td>...</td>\n",
       "      <td>...</td>\n",
       "    </tr>\n",
       "    <tr>\n",
       "      <th>2818548</th>\n",
       "      <td>-1.0</td>\n",
       "      <td>-8.0</td>\n",
       "    </tr>\n",
       "    <tr>\n",
       "      <th>2818549</th>\n",
       "      <td>90.0</td>\n",
       "      <td>79.0</td>\n",
       "    </tr>\n",
       "    <tr>\n",
       "      <th>2818550</th>\n",
       "      <td>113.0</td>\n",
       "      <td>107.0</td>\n",
       "    </tr>\n",
       "    <tr>\n",
       "      <th>2818551</th>\n",
       "      <td>13.0</td>\n",
       "      <td>9.0</td>\n",
       "    </tr>\n",
       "    <tr>\n",
       "      <th>2818552</th>\n",
       "      <td>8.0</td>\n",
       "      <td>-8.0</td>\n",
       "    </tr>\n",
       "  </tbody>\n",
       "</table>\n",
       "<p>2818553 rows × 2 columns</p>\n",
       "</div>"
      ],
      "text/plain": [
       "         DEPARTURE_DELAY  ARRIVAL_DELAY\n",
       "0                  -11.0          -22.0\n",
       "1                   -8.0           -9.0\n",
       "2                   -2.0            5.0\n",
       "3                   -5.0           -9.0\n",
       "4                   -1.0          -21.0\n",
       "...                  ...            ...\n",
       "2818548             -1.0           -8.0\n",
       "2818549             90.0           79.0\n",
       "2818550            113.0          107.0\n",
       "2818551             13.0            9.0\n",
       "2818552              8.0           -8.0\n",
       "\n",
       "[2818553 rows x 2 columns]"
      ]
     },
     "execution_count": 8,
     "metadata": {},
     "output_type": "execute_result"
    }
   ],
   "source": [
    "flights_train"
   ]
  },
  {
   "cell_type": "code",
   "execution_count": 15,
   "metadata": {
    "cell_id": "00010-4541111b-ff7c-4732-a8aa-46673067ad8a",
    "deepnote_cell_type": "code",
    "deepnote_to_be_reexecuted": false,
    "execution_millis": 60,
    "execution_start": 1638616181135,
    "source_hash": "95a6f0b0",
    "tags": []
   },
   "outputs": [
    {
     "name": "stdout",
     "output_type": "stream",
     "text": [
      "MSE = 551.6790194613191\n"
     ]
    }
   ],
   "source": [
    "# Fit a Simple Linear Model\n",
    "# Split Data\n",
    "X, Y = flights_train.loc[:, flights_train.columns != 'ARRIVAL_DELAY'] , flights_train[['ARRIVAL_DELAY']]\n",
    "X_train, X_val, Y_train, Y_val = train_test_split(X, Y, test_size=0.05, random_state=42)\n",
    "X_test = flights_test.loc[:, flights_test.columns != 'ARRIVAL_DELAY']\n",
    "lm = LinearRegression().fit(X_train,Y_train)\n",
    "# Check Validation Metrics\n",
    "predictions_val = lm.predict(X_val)\n",
    "print(\"MSE =\", metrics.mean_squared_error(predictions_val, Y_val))\n",
    "# Build prediction for Test Set\n",
    "predictions_test = lm.predict(X_test)"
   ]
  },
  {
   "cell_type": "code",
   "execution_count": 23,
   "metadata": {
    "scrolled": true
   },
   "outputs": [
    {
     "name": "stdout",
     "output_type": "stream",
     "text": [
      "MSE = 239.8359306463332\n"
     ]
    }
   ],
   "source": [
    "# Regression with Polynomial Features\n",
    "# Select model hyperparameters (here, we will use a polynomial, degree 2, basis function)\n",
    "polymodel = make_pipeline(PolynomialFeatures(5), LinearRegression(fit_intercept=True))\n",
    "pm = polymodel.fit(X_train, Y_train)\n",
    "predictions_val = pm.predict(X_val)\n",
    "# Check Validation Metrics\n",
    "predictions_val = pm.predict(X_val)\n",
    "print(\"MSE =\", metrics.mean_squared_error(predictions_val, Y_val))\n",
    "# Build prediction for Test Set\n",
    "predictions_test = lm.predict(X_test)"
   ]
  },
  {
   "cell_type": "code",
   "execution_count": 66,
   "metadata": {},
   "outputs": [
    {
     "name": "stdout",
     "output_type": "stream",
     "text": [
      "[     0      1      2 ... 514381 514382 514383]\n",
      "[31.694 -7.844 -7.844 ... -6.924  1.351 -5.085]\n"
     ]
    }
   ],
   "source": [
    "submission = create_output(predictions_test)\n",
    "#submission.to_csv(\"data/submission.csv\", index=False)"
   ]
  },
  {
   "cell_type": "code",
   "execution_count": 11,
   "metadata": {},
   "outputs": [],
   "source": [
    "flights_train.to_csv(\"data/preprocessed_data.csv\", index=False)"
   ]
  },
  {
   "cell_type": "code",
   "execution_count": 8,
   "metadata": {},
   "outputs": [
    {
     "name": "stderr",
     "output_type": "stream",
     "text": [
      "C:\\Users\\kicop\\anaconda3\\envs\\DataScience_ML\\lib\\site-packages\\seaborn\\_decorators.py:43: FutureWarning: Pass the following variables as keyword args: x, y. From version 0.12, the only valid positional argument will be `data`, and passing other arguments without an explicit keyword will result in an error or misinterpretation.\n",
      "  FutureWarning\n"
     ]
    },
    {
     "data": {
      "text/plain": [
       "<AxesSubplot:xlabel='DEPARTURE_DELAY', ylabel='ARRIVAL_DELAY'>"
      ]
     },
     "execution_count": 8,
     "metadata": {},
     "output_type": "execute_result"
    },
    {
     "data": {
      "image/png": "[encoded data removed]",
      "text/plain": [
       "<Figure size 432x288 with 1 Axes>"
      ]
     },
     "metadata": {
      "needs_background": "light"
     },
     "output_type": "display_data"
    }
   ],
   "source": [
    "aux = flights_train\n",
    "sns.scatterplot(aux.DEPARTURE_DELAY, aux.ARRIVAL_DELAY)"
   ]
  },
  {
   "cell_type": "code",
   "execution_count": null,
   "metadata": {
    "cell_id": "00006-d42a2482-5f33-493c-b92d-a5f72531840b",
    "deepnote_cell_type": "code",
    "deepnote_output_heights": [
     21.1875,
     611
    ],
    "deepnote_to_be_reexecuted": false,
    "execution_millis": 27786,
    "execution_start": 1638544277639,
    "source_hash": "fc719870",
    "tags": []
   },
   "outputs": [],
   "source": [
    "sns.pairplot(flights_train.loc[:,\"AIRLINE\":].sample(100))"
   ]
  },
  {
   "cell_type": "code",
   "execution_count": null,
   "metadata": {
    "cell_id": "00006-4dd81930-044b-4b42-b6b5-4980621e1478",
    "deepnote_cell_type": "visualization",
    "deepnote_output_heights": [
     314
    ],
    "deepnote_to_be_reexecuted": false,
    "deepnote_variable_name": "flights_train",
    "deepnote_visualization_spec": {
     "$schema": "https://vega.github.io/schema/vega-lite/v4.json",
     "autosize": {
      "type": "fit"
     },
     "data": {
      "name": "placeholder"
     },
     "encoding": {
      "color": {
       "field": "MONTH",
       "scale": {
        "type": "linear",
        "zero": false
       },
       "sort": null,
       "type": "quantitative"
      },
      "x": {
       "field": "SCHEDULED_DEPARTURE",
       "scale": {
        "type": "linear",
        "zero": false
       },
       "sort": null,
       "type": "quantitative"
      },
      "y": {
       "field": "DEPARTURE_TIME",
       "scale": {
        "type": "linear",
        "zero": false
       },
       "sort": null,
       "type": "quantitative"
      }
     },
     "height": 220,
     "mark": {
      "tooltip": {
       "content": "data"
      },
      "type": "line"
     }
    },
    "execution_millis": 791,
    "execution_start": 1638378255093,
    "source_hash": "e726cd57"
   },
   "outputs": [],
   "source": [
    "_deepnote_run_altair(flights_train, \"\"\"{\"$schema\":\"https://vega.github.io/schema/vega-lite/v4.json\",\"mark\":{\"type\":\"line\",\"tooltip\":{\"content\":\"data\"}},\"height\":220,\"autosize\":{\"type\":\"fit\"},\"data\":{\"name\":\"placeholder\"},\"encoding\":{\"x\":{\"field\":\"SCHEDULED_DEPARTURE\",\"type\":\"quantitative\",\"sort\":null,\"scale\":{\"type\":\"linear\",\"zero\":false}},\"y\":{\"field\":\"DEPARTURE_TIME\",\"type\":\"quantitative\",\"sort\":null,\"scale\":{\"type\":\"linear\",\"zero\":false}},\"color\":{\"field\":\"MONTH\",\"type\":\"quantitative\",\"sort\":null,\"scale\":{\"type\":\"linear\",\"zero\":false}}}}\"\"\")"
   ]
  },
  {
   "cell_type": "code",
   "execution_count": null,
   "metadata": {
    "cell_id": "00006-ff737d06-2518-46ed-b557-8c77660f07bc",
    "deepnote_cell_type": "code",
    "deepnote_to_be_reexecuted": false,
    "execution_millis": 1662,
    "execution_start": 1638442048478,
    "source_hash": "5293282c",
    "tags": []
   },
   "outputs": [],
   "source": [
    "flights_train.describe()"
   ]
  },
  {
   "cell_type": "code",
   "execution_count": null,
   "metadata": {
    "cell_id": "00009-54913c61-2635-41ed-9f21-9457bb6bb785",
    "deepnote_cell_type": "code",
    "tags": []
   },
   "outputs": [],
   "source": [
    "# Scheduled_departure = hhmm\n",
    "# Departure_time = hhmm\n",
    "# Taxi_out = m (wheels_off - departure_time)\n",
    "# Wheels_off = hhmm\n",
    "# Scheduled_time = m\n",
    "# Distance = km\n",
    "# Scheduled_arrival = hhmm\n",
    "# Arrival_delay = m\n",
    "\n",
    "\n",
    "# corplot to see correlations between features (perhaps dimension reduction?)\n",
    "# Random Forest\n",
    "# Deep learning"
   ]
  },
  {
   "cell_type": "markdown",
   "metadata": {
    "created_in_deepnote_cell": true,
    "deepnote_cell_type": "markdown",
    "tags": []
   },
   "source": [
    "<a style='text-decoration:none;line-height:16px;display:flex;color:#5B5B62;padding:10px;justify-content:end;' href='https://deepnote.com?utm_source=created-in-deepnote-cell&projectId=3bc7d17b-1023-4c90-8547-80a861833ae0' target=\"_blank\">\n",
    "<img alt='Created in deepnote.com' style='display:inline;max-height:16px;margin:0px;margin-right:7.5px;' src='data:image/svg+xml;base64,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' > </img>\n",
    "Created in <span style='font-weight:600;margin-left:4px;'>Deepnote</span></a>"
   ]
  }
 ],
 "metadata": {
  "deepnote": {},
  "deepnoteSessionId": "dea8a0f5-35e3-4468-94eb-804ff5fc7baa",
  "deepnote_execution_queue": [],
  "deepnote_notebook_id": "0f460af1-1872-4aa4-804e-36716dbf15fd",
  "kernelspec": {
   "display_name": "Python 3 (ipykernel)",
   "language": "python",
   "name": "python3"
  },
  "language_info": {
   "codemirror_mode": {
    "name": "ipython",
    "version": 3
   },
   "file_extension": ".py",
   "mimetype": "text/x-python",
   "name": "python",
   "nbconvert_exporter": "python",
   "pygments_lexer": "ipython3",
   "version": "3.7.6"
  }
 },
 "nbformat": 4,
 "nbformat_minor": 2
}
