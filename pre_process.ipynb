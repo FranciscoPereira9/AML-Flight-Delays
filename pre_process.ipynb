{
 "cells": [
  {
   "cell_type": "markdown",
   "source": "# Flights Delay Prediction ✈️ - Data Pre-Processing\n\nThis notebook focus on the pre-processing of data.",
   "metadata": {
    "cell_id": "00000-01ba3e84-71bb-4d09-a9f2-96ba31e81a4d",
    "deepnote_cell_type": "markdown"
   }
  },
  {
   "cell_type": "code",
   "source": "!pip install category_encoders",
   "metadata": {
    "tags": [],
    "cell_id": "00001-e750f718-2d0c-4253-8257-25d7d4190a04",
    "deepnote_to_be_reexecuted": false,
    "source_hash": "75477e8f",
    "execution_start": 1639476660237,
    "execution_millis": 4625,
    "deepnote_cell_type": "code"
   },
   "outputs": [
    {
     "name": "stdout",
     "text": "Requirement already satisfied: category_encoders in /root/venv/lib/python3.7/site-packages (2.3.0)\nRequirement already satisfied: statsmodels>=0.9.0 in /root/venv/lib/python3.7/site-packages (from category_encoders) (0.13.1)\nRequirement already satisfied: scikit-learn>=0.20.0 in /shared-libs/python3.7/py/lib/python3.7/site-packages (from category_encoders) (1.0.1)\nRequirement already satisfied: pandas>=0.21.1 in /shared-libs/python3.7/py/lib/python3.7/site-packages (from category_encoders) (1.2.5)\nRequirement already satisfied: scipy>=1.0.0 in /shared-libs/python3.7/py/lib/python3.7/site-packages (from category_encoders) (1.7.2)\nRequirement already satisfied: patsy>=0.5.1 in /root/venv/lib/python3.7/site-packages (from category_encoders) (0.5.2)\nRequirement already satisfied: numpy>=1.14.0 in /shared-libs/python3.7/py/lib/python3.7/site-packages (from category_encoders) (1.19.5)\nRequirement already satisfied: joblib>=0.11 in /shared-libs/python3.7/py/lib/python3.7/site-packages (from scikit-learn>=0.20.0->category_encoders) (1.1.0)\nRequirement already satisfied: threadpoolctl>=2.0.0 in /shared-libs/python3.7/py/lib/python3.7/site-packages (from scikit-learn>=0.20.0->category_encoders) (3.0.0)\nRequirement already satisfied: pytz>=2017.3 in /shared-libs/python3.7/py/lib/python3.7/site-packages (from pandas>=0.21.1->category_encoders) (2021.3)\nRequirement already satisfied: python-dateutil>=2.7.3 in /shared-libs/python3.7/py-core/lib/python3.7/site-packages (from pandas>=0.21.1->category_encoders) (2.8.2)\nRequirement already satisfied: six in /shared-libs/python3.7/py-core/lib/python3.7/site-packages (from patsy>=0.5.1->category_encoders) (1.16.0)\n\u001b[33mWARNING: You are using pip version 20.1.1; however, version 21.3.1 is available.\nYou should consider upgrading via the '/root/venv/bin/python -m pip install --upgrade pip' command.\u001b[0m\n",
     "output_type": "stream",
     "data": {}
    }
   ],
   "execution_count": null
  },
  {
   "cell_type": "code",
   "metadata": {
    "deepnote_to_be_reexecuted": false,
    "execution_millis": 8659,
    "execution_start": 1639477536603,
    "source_hash": "634ab62c",
    "tags": [],
    "cell_id": "00001-e009671d-3376-46d2-b755-1f3e0b0705c0",
    "deepnote_cell_type": "code"
   },
   "source": "import pandas as pd\nimport numpy as np\nimport seaborn as sns\nimport datetime\nimport preprocess as pp\nimport category_encoders as ce\n# ML\nimport tensorflow as tf\nfrom tensorflow import keras\nfrom tensorflow.keras import layers\nfrom sklearn.model_selection import train_test_split\nfrom sklearn.linear_model import LinearRegression\nfrom sklearn.preprocessing import OneHotEncoder\nfrom sklearn import metrics\nfrom sklearn.preprocessing import PolynomialFeatures\nfrom sklearn.pipeline import make_pipeline\n# Options\n# Make NumPy printouts easier to read.\nnp.set_printoptions(precision=3, suppress=True)",
   "outputs": [],
   "execution_count": null
  },
  {
   "cell_type": "code",
   "metadata": {
    "cell_id": "00003-ca3f2a14-feb3-4c92-84ed-0a6e00f11f23",
    "deepnote_to_be_reexecuted": false,
    "source_hash": "cae4039",
    "execution_start": 1639477547216,
    "execution_millis": 3,
    "deepnote_output_heights": [
     21.1875
    ],
    "deepnote_cell_type": "code"
   },
   "source": "def rearrange_date(df):\n    \"\"\"\n    Merges YEAR, MONTH, DAY and puts it into a datetime object.\n    Creates DAY_OF_WEEK based on date.\n    \"\"\"\n    # Create a Date Time Variable - YEAR-MONTH-DAY all in the same field - train\n    df = df.astype({'YEAR': 'str', 'MONTH': 'str', 'DAY': 'str'})\n    df[\"DATE\"] = df[\"DAY\"].str.cat(df[['MONTH', 'YEAR']], sep='-')\n    df['DATE'] = pd.to_datetime(df['DATE'])\n    df['DAY_OF_WEEK'] = df['DATE'].dt.day_name()\n    df['MONTH'] = df['DATE'].dt.month_name()\n    df.drop(columns=['YEAR', 'DAY'], inplace=True)\n    return df\n\n\ndef departure_delay(day, scheduled_departure, departure, arrival_delay=None):\n    '''\n    Calculate the departure delay.\n    Assumption: the delay is always positive unless the negative delay is less than 90 minutes.\n\n    Input:\n    date - date of the schedule departure. - datetime\n    scheduled_departure - time (hhmm) for the scheduled departure. - int64\n    departure - actual time (hhmm) for the departure. - float64\n    '''\n    # Transform to datetime objects\n    scheduled_departure = \"{0:04d}\".format(int(scheduled_departure))\n    scheduled_departure = day + datetime.timedelta(hours=int(scheduled_departure[0:2]),\n                                                   minutes=int(scheduled_departure[2:4]))\n    departure = \"{0:04d}\".format(int(departure))\n    departure = datetime.timedelta(hours=int(departure[0:2]), minutes=int(departure[2:4]))\n\n    # Create array with possible intervals\n    previous_day = day - datetime.timedelta(days=1)\n    previous_day_departure = previous_day + departure\n    day_departure = day + departure\n    next_day = day + datetime.timedelta(days=1)\n    next_day_departure = next_day + departure\n    time_differences = np.array([(previous_day_departure - scheduled_departure).total_seconds(),\n                                 (day_departure - scheduled_departure).total_seconds(),\n                                 (next_day_departure - scheduled_departure).total_seconds()]) / 60\n    time_differences = time_differences[time_differences > -90]\n    min_index = np.argmin(np.abs(time_differences))\n    if arrival_delay:\n        arrival_departure_difference = np.abs(arrival_delay - time_differences)\n        min_index = np.argmin(arrival_departure_difference)\n    # Get minimum interval\n    return time_differences[min_index]\n\n\ndef one_hot_encode_main(df_train, df_test):\n    # Create Encoder Object\n    encoder = ce.BinaryEncoder(cols=['MONTH', 'DAY_OF_WEEK', 'AIRLINE', 'SCHEDULED_DEPARTURE'], return_df=True)\n    # Encode Train Set\n    df_train[\"SCHEDULED_DEPARTURE\"] = df_train.apply(lambda row: \"{0:04d}\".format(int(row[\"SCHEDULED_DEPARTURE\"])), axis=1)\n    df_train = encoder.fit_transform(df_train)\n    # Encode Test Set\n    df_test[\"SCHEDULED_DEPARTURE\"] = df_test.apply(lambda row: \"{0:04d}\".format(int(row[\"SCHEDULED_DEPARTURE\"])),axis=1)\n    df_test = encoder.fit_transform(df_test)\n    #df = pd.get_dummies(df, columns=['MONTH'], prefix='', prefix_sep='')\n    #df = pd.get_dummies(df, columns=['DAY_OF_WEEK'], prefix='', prefix_sep='')\n    #df = pd.get_dummies(df, columns=['AIRLINE'], prefix='AIRLINE', prefix_sep='_')\n    return df_train, df_test\n\n\ndef one_hot_encode_airports(df_train, df_test):\n    # Create object for binary encoding\n    encoder = ce.BinaryEncoder(cols=['AIRPORTS'], return_df=True)\n    # Create target encoding object\n    encoder_target = ce.TargetEncoder(cols=['AIRPORTS'], return_df=True)\n    # Encode Train Set\n    df_train['AIRPORTS'] = df_train['ORIGIN_AIRPORT'].str.cat(df_train['DESTINATION_AIRPORT'], sep=\"-\")\n    df_train['AIRPORT_TargetEncoding'] = encoder_target.fit_transform(df_train['AIRPORTS'], df_train['DEPARTURE_DELAY'])\n    df_train = encoder.fit_transform(df_train)\n    # Encode Test Set\n    df_test['AIRPORTS'] = df_test['ORIGIN_AIRPORT'].str.cat(df_test['DESTINATION_AIRPORT'], sep=\"-\")\n    df_test['AIRPORT_TargetEncoding'] = encoder_target.fit_transform(df_test['AIRPORTS'], df_test['DEPARTURE_DELAY'])\n    df_test = encoder.fit_transform(df_test)\n    return df_train, df_test\n\n\ndef create_output(predictions):\n    \"\"\"\n    Function that creates output csv submission file. Returns the submission dataframe.\n    Input:\n    - predictions: an array with shape (n_predictions, 1) with the ARRIVAL_DELAY outputs (ordered).\n    Return:\n    - submission: dataframe with id and ARRIVAL_DELAY fields.\n    \"\"\"\n    submission = pd.DataFrame(data={\"id\": np.arange(len(predictions)),\n                                    \"ARRIVAL_DELAY\": np.reshape(predictions,(len(predictions)))})\n    submission.to_csv(\"data/submission.csv\", index=False)\n    return submission\n",
   "outputs": [],
   "execution_count": null
  },
  {
   "cell_type": "code",
   "source": "# Read Data\n# Original\nairlines_raw = pd.read_csv(\"data/airlines.csv\")\nairports_raw = pd.read_csv(\"data/airports.csv\")\nflights_train_raw = pd.read_csv(\"data/flights_train.csv\").iloc[:500000] # Just the first 500k (train) rows so it is not to heavy\nflights_test_raw = pd.read_csv(\"data/flights_test.csv\").iloc[:5000] # Just the first 5k (test) rows so it is not to heavy\n# Copies (work on the copies)\nairlines = airlines_raw.copy()\nairports = airports_raw.copy()\nflights_train = flights_train_raw.copy()\nflights_test = flights_test_raw.copy()\n\n# Drop columns that don't add information\nflights_train.drop(columns=[\"WHEELS_OFF\", \"FLIGHT_NUMBER\", \"TAIL_NUMBER\"], inplace=True)\nflights_test.drop(columns=[\"WHEELS_OFF\", \"FLIGHT_NUMBER\", \"TAIL_NUMBER\"], inplace=True)\n\n# Create Date with Datetime obj\nflights_train = rearrange_date(flights_train)\nflights_test = rearrange_date(flights_test)\n\n# Calculate Departure Delay\nflights_train[\"DEPARTURE_DELAY\"] = flights_train.apply(lambda row: departure_delay(row[\"DATE\"],\n                                                                                    row[\"SCHEDULED_DEPARTURE\"],\n                                                                                    row[\"DEPARTURE_TIME\"],\n                                                                                    row[\"ARRIVAL_DELAY\"]), axis=1)\nflights_test[\"DEPARTURE_DELAY\"] = flights_test.apply(lambda row: departure_delay(row[\"DATE\"],\n                                                                                    row[\"SCHEDULED_DEPARTURE\"],\n                                                                                    row[\"DEPARTURE_TIME\"]), axis=1)\n\n# OneHot Encode Labels\nflights_train, flights_test = one_hot_encode_main(flights_train, flights_test)\n# Origins and Destinations\nflights_train, flights_test = one_hot_encode_airports(flights_train, flights_test)\n\nprint(\"Done\")\n# Save pre-processed data\nflights_train.to_csv(\"data/pp_flights_train.csv\", index=False)\nflights_test.to_csv(\"data/pp_flights_test.csv\", index=False)",
   "metadata": {
    "tags": [],
    "cell_id": "00005-0f5692ef-9815-43c9-9593-4d24c7ba1919",
    "deepnote_to_be_reexecuted": false,
    "source_hash": "32592e41",
    "execution_start": 1639477550570,
    "execution_millis": 139058,
    "deepnote_cell_type": "code"
   },
   "outputs": [
    {
     "name": "stdout",
     "text": "Done\n",
     "output_type": "stream",
     "data": {}
    }
   ],
   "execution_count": null
  },
  {
   "cell_type": "code",
   "metadata": {
    "deepnote_to_be_reexecuted": false,
    "execution_millis": 274,
    "execution_start": 1639477689638,
    "source_hash": "611d58e6",
    "tags": [],
    "cell_id": "00012-4c57cab9-8256-49fd-80f7-00b9c6f6be42",
    "deepnote_cell_type": "code"
   },
   "source": "#flights_train[(flights_train[\"ARRIVAL_DELAY\"] > 1000) & (flights_train[\"DEPARTURE_DELAY\"] < 600)]\n#flights_train.drop(flights_train[(flights_train[\"ARRIVAL_DELAY\"] > 1000) & (flights_train[\"DEPARTURE_DELAY\"] < 600)].index, inplace=True)\n# Fit a Simple Linear Model\n# Split Data\nX, Y = flights_train['DEPARTURE_DELAY'].to_numpy().reshape(-1,1) , flights_train['ARRIVAL_DELAY']\nX_train, X_val, Y_train, Y_val = train_test_split(X, Y, test_size=0.05, random_state=42)\nX_test = flights_test['DEPARTURE_DELAY'].to_numpy().reshape(-1,1)\nlm = LinearRegression().fit(X_train,Y_train)\n# Check Validation Metrics\npredictions_val = lm.predict(X_val)\nprint(\"MSE =\", metrics.mean_squared_error(predictions_val, Y_val))\n# Build prediction for Test Set\npredictions_test = lm.predict(X_test)",
   "outputs": [
    {
     "name": "stdout",
     "text": "MSE = 180.08007297083822\n",
     "output_type": "stream",
     "data": {}
    }
   ],
   "execution_count": null
  },
  {
   "cell_type": "code",
   "metadata": {
    "scrolled": true,
    "cell_id": "00013-49f046bb-50e6-4d6c-bcde-17f9c4ab653d",
    "deepnote_to_be_reexecuted": false,
    "source_hash": "a2ba48fe",
    "execution_start": 1639477719944,
    "execution_millis": 201,
    "deepnote_cell_type": "code"
   },
   "source": "# Regression with Polynomial Features\n# Select model hyperparameters (here, we will use a polynomial, degree 2, basis function)\npolymodel = make_pipeline(PolynomialFeatures(3), LinearRegression(fit_intercept=True))\npm = polymodel.fit(X_train, Y_train)\npredictions_val = pm.predict(X_val)\n# Check Validation Metrics\npredictions_val = pm.predict(X_val)\nprint(\"MSE =\", metrics.mean_squared_error(predictions_val, Y_val))\n# Build prediction for Test Set\npredictions_test = lm.predict(X_test)",
   "outputs": [
    {
     "name": "stdout",
     "text": "MSE = 180.05776452276942\n",
     "output_type": "stream",
     "data": {}
    }
   ],
   "execution_count": null
  },
  {
   "cell_type": "code",
   "metadata": {
    "cell_id": "00014-43f758fe-66be-4580-ae5b-1b44067ffc4b",
    "deepnote_to_be_reexecuted": false,
    "source_hash": "789f745e",
    "execution_start": 1638700831239,
    "execution_millis": 1319,
    "deepnote_cell_type": "code"
   },
   "source": "submission = pp.create_output(predictions_test)",
   "execution_count": null,
   "outputs": []
  },
  {
   "cell_type": "code",
   "metadata": {
    "cell_id": "00016-3e85de47-d809-4250-9a6a-57947eca8fe0",
    "deepnote_output_heights": [
     250,
     250,
     254
    ],
    "deepnote_to_be_reexecuted": false,
    "source_hash": "32830427",
    "execution_start": 1639478363615,
    "execution_millis": 313,
    "deepnote_cell_type": "code"
   },
   "source": "# Plot model regression line on top of actual delays - Baseline\nimport matplotlib.pyplot as plt\nplt.scatter(X_val.reshape(-1), Y_val.to_numpy())\nplt.plot(X_val.reshape(-1), predictions_val.reshape(-1), color='orange')\nplt.show()",
   "outputs": [
    {
     "data": {
      "text/plain": "<Figure size 432x288 with 1 Axes>",
      "image/png": "[encoded data removed]"
     },
     "metadata": {
      "needs_background": "light",
      "image/png": {
       "width": 383,
       "height": 248
      }
     },
     "output_type": "display_data"
    }
   ],
   "execution_count": null
  },
  {
   "cell_type": "code",
   "metadata": {
    "deepnote_output_heights": [
     21.1875,
     611
    ],
    "deepnote_to_be_reexecuted": false,
    "execution_millis": 27786,
    "execution_start": 1638544277639,
    "source_hash": "fc719870",
    "tags": [],
    "cell_id": "00017-6f131760-0917-448f-857f-d2c0e9f1c69a",
    "deepnote_cell_type": "code"
   },
   "source": "sns.pairplot(flights_train.loc[:,\"AIRLINE\":].sample(100))",
   "execution_count": null,
   "outputs": []
  },
  {
   "cell_type": "markdown",
   "source": "<a style='text-decoration:none;line-height:16px;display:flex;color:#5B5B62;padding:10px;justify-content:end;' href='https://deepnote.com?utm_source=created-in-deepnote-cell&projectId=3bc7d17b-1023-4c90-8547-80a861833ae0' target=\"_blank\">\n<img alt='Created in deepnote.com' style='display:inline;max-height:16px;margin:0px;margin-right:7.5px;' src='data:image/svg+xml;base64,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' > </img>\nCreated in <span style='font-weight:600;margin-left:4px;'>Deepnote</span></a>",
   "metadata": {
    "tags": [],
    "created_in_deepnote_cell": true,
    "deepnote_cell_type": "markdown"
   }
  }
 ],
 "nbformat": 4,
 "nbformat_minor": 2,
 "metadata": {
  "deepnote": {},
  "deepnoteSessionId": "dea8a0f5-35e3-4468-94eb-804ff5fc7baa",
  "deepnote_execution_queue": [],
  "deepnote_notebook_id": "f31c693b-e869-4fdf-bdfb-ffb4e5865718",
  "kernelspec": {
   "display_name": "Python 3 (ipykernel)",
   "language": "python",
   "name": "python3"
  },
  "language_info": {
   "codemirror_mode": {
    "name": "ipython",
    "version": 3
   },
   "file_extension": ".py",
   "mimetype": "text/x-python",
   "name": "python",
   "nbconvert_exporter": "python",
   "pygments_lexer": "ipython3",
   "version": "3.7.6"
  }
 }
}