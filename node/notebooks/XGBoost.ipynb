{
 "cells": [
  {
   "cell_type": "code",
   "execution_count": null,
   "id": "3e81509d",
   "metadata": {},
   "outputs": [],
   "source": [
    "import xgboost as xgb\n",
    "from sklearn.metrics import mean_squared_error\n",
    "import pandas as pd\n",
    "import numpy as np\n",
    "from sklearn.model_selection import train_test_split\n",
    "\n",
    "train = pd.read_csv('/content/drive/MyDrive/Colab Notebooks/data/pp2_flights_train.csv')\n",
    "test = pd.read_csv('/content/drive/MyDrive/Colab Notebooks/data/pp2_flights_test.csv')\n",
    "\n",
    "X_test = test.drop(columns='ARRIVAL_DELAY', axis=1)\n",
    "X_train, y_train = train.drop(columns='ARRIVAL_DELAY', axis=1) ,train['ARRIVAL_DELAY']\n",
    "\n",
    "data_dmatrix = xgb.DMatrix(data=X_train,label=y_train)\n",
    "\n",
    "xg_reg = xgb.XGBRegressor(objective ='reg:linear', colsample_bytree = 0.3, learning_rate = 0.1,\n",
    "                max_depth = 5, alpha = 10, n_estimators = 10)\n",
    "\n",
    "xg_reg.fit(X_train,y_train)\n",
    "\n",
    "preds = xg_reg.predict(X_test)\n",
    "print(preds)\n",
    "\n",
    "dataset = pd.DataFrame({'id':range(len(preds)) , 'RESIDUALS': preds})\n",
    "\n",
    "dataset.to_csv('preds_xgb.csv',index=False)"
   ]
  }
 ],
 "metadata": {
  "kernelspec": {
   "display_name": "Python 3",
   "language": "python",
   "name": "python3"
  },
  "language_info": {
   "codemirror_mode": {
    "name": "ipython",
    "version": 3
   },
   "file_extension": ".py",
   "mimetype": "text/x-python",
   "name": "python",
   "nbconvert_exporter": "python",
   "pygments_lexer": "ipython3",
   "version": "3.7.7"
  }
 },
 "nbformat": 4,
 "nbformat_minor": 5
}
